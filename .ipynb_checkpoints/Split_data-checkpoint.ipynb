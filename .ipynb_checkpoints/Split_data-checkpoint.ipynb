{
 "cells": [
  {
   "cell_type": "code",
   "execution_count": 1,
   "metadata": {},
   "outputs": [],
   "source": [
    "import os\n",
    "import numpy as np\n",
    "import pandas as pd\n",
    "import matplotlib.pyplot as plt\n",
    "%matplotlib inline\n",
    "%config InlineBackend.figure_format='retina'\n",
    "\n",
    "from sklearn.model_selection import train_test_split\n",
    "\n",
    "# Set a random seed to ensure reproducibility across runs\n",
    "RNG_SEED = 42\n",
    "np.random.seed(seed=RNG_SEED)"
   ]
  },
  {
   "cell_type": "code",
   "execution_count": 2,
   "metadata": {},
   "outputs": [
    {
     "name": "stdout",
     "output_type": "stream",
     "text": [
      "Full DataFrame shape: (229, 6)\n"
     ]
    }
   ],
   "source": [
    "PATH = os.getcwd()\n",
    "data_path = os.path.join(PATH, './zt_data_cleaned2.csv')\n",
    "\n",
    "df = pd.read_csv(data_path)\n",
    "print(f'Full DataFrame shape: {df.shape}')"
   ]
  },
  {
   "cell_type": "code",
   "execution_count": 3,
   "metadata": {},
   "outputs": [
    {
     "name": "stdout",
     "output_type": "stream",
     "text": [
      "Shape of X: (229, 4)\n",
      "Shape of y: (229,)\n"
     ]
    },
    {
     "data": {
      "text/html": [
       "<div>\n",
       "<style scoped>\n",
       "    .dataframe tbody tr th:only-of-type {\n",
       "        vertical-align: middle;\n",
       "    }\n",
       "\n",
       "    .dataframe tbody tr th {\n",
       "        vertical-align: top;\n",
       "    }\n",
       "\n",
       "    .dataframe thead th {\n",
       "        text-align: right;\n",
       "    }\n",
       "</style>\n",
       "<table border=\"1\" class=\"dataframe\">\n",
       "  <thead>\n",
       "    <tr style=\"text-align: right;\">\n",
       "      <th></th>\n",
       "      <th>formula</th>\n",
       "      <th>zt</th>\n",
       "      <th>c</th>\n",
       "      <th>s</th>\n",
       "    </tr>\n",
       "  </thead>\n",
       "  <tbody>\n",
       "    <tr>\n",
       "      <th>0</th>\n",
       "      <td>Bi1Cu1Se1O1</td>\n",
       "      <td>0.92</td>\n",
       "      <td>446.126</td>\n",
       "      <td>146.245</td>\n",
       "    </tr>\n",
       "    <tr>\n",
       "      <th>1</th>\n",
       "      <td>Bi0.08Sn0.02Cu1Se1O1</td>\n",
       "      <td>0.71</td>\n",
       "      <td>407.910</td>\n",
       "      <td>145.164</td>\n",
       "    </tr>\n",
       "    <tr>\n",
       "      <th>2</th>\n",
       "      <td>Bi0.06Sn0.04Cu1Se1O1</td>\n",
       "      <td>0.67</td>\n",
       "      <td>426.163</td>\n",
       "      <td>150.029</td>\n",
       "    </tr>\n",
       "    <tr>\n",
       "      <th>3</th>\n",
       "      <td>Bi0.04Sn0.06Cu1Se1O1</td>\n",
       "      <td>0.66</td>\n",
       "      <td>275.277</td>\n",
       "      <td>171.110</td>\n",
       "    </tr>\n",
       "    <tr>\n",
       "      <th>4</th>\n",
       "      <td>Bi0.02Sn0.08Cu1Se1O1</td>\n",
       "      <td>0.64</td>\n",
       "      <td>333.028</td>\n",
       "      <td>157.056</td>\n",
       "    </tr>\n",
       "  </tbody>\n",
       "</table>\n",
       "</div>"
      ],
      "text/plain": [
       "                formula    zt        c        s\n",
       "0           Bi1Cu1Se1O1  0.92  446.126  146.245\n",
       "1  Bi0.08Sn0.02Cu1Se1O1  0.71  407.910  145.164\n",
       "2  Bi0.06Sn0.04Cu1Se1O1  0.67  426.163  150.029\n",
       "3  Bi0.04Sn0.06Cu1Se1O1  0.66  275.277  171.110\n",
       "4  Bi0.02Sn0.08Cu1Se1O1  0.64  333.028  157.056"
      ]
     },
     "execution_count": 3,
     "metadata": {},
     "output_type": "execute_result"
    }
   ],
   "source": [
    "X = df[['formula', 'zt', 'c','s']]\n",
    "y = df['k']\n",
    "\n",
    "print(f'Shape of X: {X.shape}')\n",
    "print(f'Shape of y: {y.shape}')\n",
    "X.head()"
   ]
  },
  {
   "cell_type": "code",
   "execution_count": 4,
   "metadata": {},
   "outputs": [
    {
     "name": "stdout",
     "output_type": "stream",
     "text": [
      "(160, 4)\n",
      "(69, 4)\n"
     ]
    }
   ],
   "source": [
    "X_train, X_test, y_train, y_test = train_test_split(X, y, test_size=0.30, random_state=RNG_SEED)\n",
    "\n",
    "print(X_train.shape)\n",
    "print(X_test.shape)"
   ]
  },
  {
   "cell_type": "code",
   "execution_count": 5,
   "metadata": {},
   "outputs": [
    {
     "name": "stdout",
     "output_type": "stream",
     "text": [
      "There are in total 160 rows in the X_train DataFrame.\n",
      "But there are only 121 unique formulae!\n",
      "\n",
      "Unique formulae and their number of occurances in the X_train DataFrame:\n",
      "Bi1Cu1Se1O1                      25\n",
      "Bi0.92Pb0.08Cu1Se1O1              3\n",
      "Bi0.94Pb0.06Cu1Se1O1              3\n",
      "Bi0.925Ca0.075Cu1Se1O1            2\n",
      "Bi0.90Ca0.10Cu1Se1O1              2\n",
      "                                 ..\n",
      "Bi0.975Sr0.025Cu1Se1O1            1\n",
      "Bi0.85Yb0.15Cu1Se1O1              1\n",
      "Bi0.96Pb0.04Cu0.96Ni0.04Se1O1     1\n",
      "Bi0.875Ba0.125Cu0.9Ni0.1Se1O1     1\n",
      "Bi0.08Sn0.02Cu1Se1O1              1\n",
      "Name: formula, Length: 121, dtype: int64 \n",
      "\n",
      "Unique formulae and their number of occurances in the X_test DataFrame:\n",
      "Bi1Cu1Se1O1                          14\n",
      "Bi0.98Na0.02Cu1Se1O1                  2\n",
      "Bi0.85Ba0.15Cu1Se1O1                  1\n",
      "Bi0.80Na0.20Cu1Se1O1                  1\n",
      "Bi0.96K0.04Cu1Se1O1                   1\n",
      "Bi0.975Ba0.025Cu1Se1O1                1\n",
      "Bi0.92La0.08Cu1Se1O1                  1\n",
      "Bi0.950Ca0.025Cu1Se1O1                1\n",
      "Bi0.94Sb0.06Cu1Se0.94Te0.06O1         1\n",
      "Bi0.96Er0.04Cu1Se1O1                  1\n",
      "Bi0.94Pb0.06Cu0Fe0Se1O1               1\n",
      "Bi0.95Nd0.05Cu1Se1O1                  1\n",
      "Bi0.95Na0.050Cu1Se1O0.95F0.05         1\n",
      "Bi0.900Ca0.100Cu1Se1O1                1\n",
      "Bi1Cu1Se0.8Te0.15O1                   1\n",
      "Bi0.96Sb0.04Cu1Se0.96Te0.04O1         1\n",
      "Bi0.94Yb0.06Cu1Se1O1                  1\n",
      "Bi0.85Ca0.15Cu1Se1O1                  1\n",
      "Bi0.94La0.06Cu1Se1O1                  1\n",
      "Bi0.925Ca0.075Cu1Se1O1                1\n",
      "Bi0.875Ca0.125Cu1Se1O1                1\n",
      "Bi0.82Mg0.09Pb0.09Cu1Se1O1            1\n",
      "Bi0.90Pb0.10Cu0.90Ni0.10Se1O1         1\n",
      "Bi0.94Er0.06Cu1Se1O1                  1\n",
      "Bi1Cu1Se0.95O1                        1\n",
      "Bi0.96Pb0.04Cu1Se1O1                  1\n",
      "Bi1Cu1Se0.96Te0.04O1                  1\n",
      "Bi0.99Cd0.01Cu1Se1O1                  1\n",
      "Bi1Cu1Se10.98Te0.02O1                 1\n",
      "BiCu0.9Mn0.1Se1O1                     1\n",
      "Bi0.92La0.02Pb0.06Cu1Se1O1            1\n",
      "Bi0.90Ba0.10Cu1Se1O1                  1\n",
      "Bi0.995Sb0.005Cu1Se1O1                1\n",
      "Bi0.98Sb0.02Cu1Se1O1                  1\n",
      "Bi1Cu1Se0.80Te0.20O1                  1\n",
      "Bi0.875Mg0.125Cu1Se1O1                1\n",
      "Bi0.9Li0.1Cu1Se1O1                    1\n",
      "Bi1Cu0.975Se1O1                       1\n",
      "Bi0.90La0.1Cu1Se1O1                   1\n",
      "Bi0.95Sr0.05Cu1Se1O1                  1\n",
      "Bi0.93La0.01Pb0.06Cu1Se1O1            1\n",
      "Bi0.925Sr0.075Cu1Se1O1                1\n",
      "Bi1Cu0.925Zn0.075Se1O1                1\n",
      "Bi0.98K0.02Cu1Se1O1                   1\n",
      "Bi1Cu0.975Zn0.025Se1O1                1\n",
      "Bi0.96Li0.04Cu0.96Mn0.04Se1O1         1\n",
      "Bi0.925Zn0.075Cu1Se1O0.925SO0.075     1\n",
      "Bi0.95Sb0.05Cu1Se1O1                  1\n",
      "Bi0.95In0.05CuSeO1                    1\n",
      "Bi0.975Mg0.025Cu1Se1O1                1\n",
      "Bi0.92Ca0.0Pb0.04Cu1Se1O1             1\n",
      "Bi0.94Pb0.06Cu0.97Fe0.03Se1O1         1\n",
      "Bi0.85Sr0.15Cu1Se1O1                  1\n",
      "Bi0.90Na0.100Cu1Se1O0.90F0.10         1\n",
      "Bi0.98Pb0.02Cu1Se1O1                  1\n",
      "Name: formula, dtype: int64\n"
     ]
    }
   ],
   "source": [
    "num_rows = len(X_train)\n",
    "print(f'There are in total {num_rows} rows in the X_train DataFrame.')\n",
    "\n",
    "num_unique_formulae = len(X_train['formula'].unique())\n",
    "print(f'But there are only {num_unique_formulae} unique formulae!\\n')\n",
    "\n",
    "print('Unique formulae and their number of occurances in the X_train DataFrame:')\n",
    "print(X_train['formula'].value_counts(), '\\n')\n",
    "print('Unique formulae and their number of occurances in the X_test DataFrame:')\n",
    "print(X_test['formula'].value_counts())"
   ]
  },
  {
   "cell_type": "code",
   "execution_count": 6,
   "metadata": {},
   "outputs": [
    {
     "name": "stdout",
     "output_type": "stream",
     "text": [
      "171 unique formulae:\n",
      "['Bi1Cu1Se1O1' 'Bi0.08Sn0.02Cu1Se1O1' 'Bi0.06Sn0.04Cu1Se1O1'\n",
      " 'Bi0.04Sn0.06Cu1Se1O1' 'Bi0.02Sn0.08Cu1Se1O1' 'Bi0.985Na0.015Cu1Se1O1'\n",
      " 'Bi0.945Na0.015Pb0.04Cu1Se1O1' 'Bi0.925Na0.015Pb0.06Cu1Se1O1'\n",
      " 'Bi0.905Na0.015Pb0.08Cu1Se1O1' 'Bi0.99Cd0.01Cu1Se1O1'\n",
      " 'Bi0.95Cd0.05Cu1Se1O1' 'Bi0.9Cd0.1Cu1Se1O1' 'Bi1Cu0.99Ag0.01Se1O1'\n",
      " 'Bi1Cu0.97Ag0.03Se1O1' 'Bi0.995Sb0.005Cu1Se1O1' 'Bi0.99Sb0.01Cu1Se1O1'\n",
      " 'Bi0.98Sb0.02Cu1Se1O1' 'Bi0.95Sb0.05Cu1Se1O1' 'Bi0.92Sb0.08Cu1Se1O1'\n",
      " 'Bi0.99Sb0.01Cu1Se0.99Te0.01O1' 'Bi0.98Sb0.02Cu1Se0.98Te0.02O1'\n",
      " 'Bi0.96Sb0.04Cu1Se0.96Te0.04O1' 'Bi0.94Sb0.06Cu1Se0.94Te0.06O1'\n",
      " 'Bi0.92Sb0.08Cu1Se0.92Te0.08O1' 'Bi0.98Er0.02Cu1Se1O1'\n",
      " 'Bi0.96Er0.04Cu1Se1O1' 'Bi0.94Er0.06Cu1Se1O1' 'Bi0.92Er0.08Cu1Se1O1'\n",
      " 'Bi0.90Er0.10Cu1Se1O1' 'Bi0.98Pb0.02Cu0.98Ni0.02Se1O1'\n",
      " 'Bi0.96Pb0.04Cu0.96Ni0.04Se1O1' 'Bi0.94Pb0.06Cu0.94Ni0.06Se1O1'\n",
      " 'Bi0.92Pb0.08Cu0.92Ni0.08Se1O1' 'Bi0.90Pb0.10Cu0.90Ni0.10Se1O1'\n",
      " 'Bi0.975Cu1Se1O1' 'Bi0.95Cu1Se1O1' 'Bi0.9Cu1Se1O1' 'Bi1Cu1Se0.975O1'\n",
      " 'Bi1Cu1Se0.95O1' 'Bi1Cu1Se0.9O1' 'Bi0.96Pb0.04Cu1Se1O1'\n",
      " 'Bi0.94Pb0.06Cu1Se1O1' 'Bi0.92Pb0.08Cu1Se1O1' 'Bi0.975Mg0.25Cu1Se1O1'\n",
      " 'Bi0.95Mg0.05Cu1Se1O1' 'Bi0.925Mg0.075Cu1Se1O1' 'Bi0.9Mg0.1Cu1Se1O1'\n",
      " 'Bi0.875Mg0.125Cu1Se1O1' 'Bi0.850Mg0.150Cu1Se1O1'\n",
      " 'Bi0.825Mg0.175Cu1Se1O1' 'Bi0.800Mg0.200Cu1Se1O1' 'Bi0.98Na0.02Cu1Se1O1'\n",
      " 'Bi0.96Na0.04Cu1Se1O1' 'Bi0.94Na0.06Cu1Se1O1' 'Bi0.92Na0.08Cu1Se1O1'\n",
      " 'Bi0.90Na0.10Cu1Se1O1' 'Bi0.85Na0.15Cu1Se1O1' 'Bi0.80Na0.20Cu1Se1O1'\n",
      " 'Bi0.98K0.02Cu1Se1O1' 'Bi0.96K0.04Cu1Se1O1' 'Bi0.94K0.06Cu1Se1O1'\n",
      " 'Bi0.92K0.08Cu1Se1O1' 'Bi0.90K0.10Cu1Se1O1' 'Bi0.97In0.03Cu1Se1O1'\n",
      " 'Bi0.95In0.05CuSeO1' 'Bi0.925In0.075Cu1Se1O1' 'Bi0.90In0.10Cu1Se1O1'\n",
      " 'Bi0.975Ba0.025Cu1Se1O1' 'Bi0.950Ba0.05Cu1Se1O1' 'Bi0.925Ba0.075Cu1Se1O1'\n",
      " 'Bi0.90Ba0.10Cu1Se1O1' 'Bi0.875Ba0.125Cu1Se1O1' 'Bi0.85Ba0.15Cu1Se1O1'\n",
      " 'Bi0.975Mg0.025Cu1Se1O1' 'Bi0.950Mg0.050Cu1Se1O1'\n",
      " 'Bi0.900Mg0.100Cu1Se1O1' 'B0.975Ca0.025Cu1Se1O1' 'Bi0.950Ca0.025Cu1Se1O1'\n",
      " 'Bi0.925Ca0.075Cu1Se1O1' 'Bi0.900Ca0.100Cu1Se1O1'\n",
      " 'Bi0.875Ca0.125Cu1Se1O1' 'Bi0.995Na0.025Cu1Se1O1' 'Bi0.99Na0.01Cu1Se1O1'\n",
      " 'Bi1Cu0.975Se1O1' 'Bi0.975Cu0.975Se1O1' 'Bi0.94La0Pb0.06Cu1Se1O1'\n",
      " 'Bi0.93La0.01Pb0.06Cu1Se1O1' 'Bi0.92La0.02Pb0.06Cu1Se1O1'\n",
      " 'Bi0.9La0.04Pb0.06Cu1Se1O1' 'Bi1Cu1Se10.98Te0.02O1'\n",
      " 'Bi1Cu1Se0.96Te0.04O1' 'Bi1Cu1Se0.94Te10.06O1' 'Bi1Cu1Se0.92Te0.08O1'\n",
      " 'Bi1Cu1Se0.90Te0.10O1' 'Bi1Cu1Se0.8Te0.15O1' 'Bi1Cu1Se0.80Te0.20O1'\n",
      " 'Bi0.9Pb0.1Cu1Se1O1' 'Bi0.94La0.06Cu1Se1O1' 'Bi0.92La0.08Cu1Se1O1'\n",
      " 'Bi0.90La0.1Cu1Se1O1' 'Bi0.875La0.125Cu1Se1O1' 'Bi0.96Ag0.04Cu1Se1O1'\n",
      " 'Bi0.94Ag0.06Cu1Se1O1' 'Bi0.92Ag0.08Cu1Se1O1' 'Bi0.9Ag0.1Cu1Se1O1'\n",
      " 'Bi0.98Ca0.01Pb0.01Cu1Se1O1' 'Bi0.96Ca0.02Pb0.02Cu1Se1O1'\n",
      " 'Bi0.92Ca0.0Pb0.04Cu1Se1O1' 'Bi0.88Ca0.06Pb0.06Cu1Se1O1'\n",
      " 'Bi0.84Ca0.08Pb0.08Cu1Se1O1' 'Bi0.8Ca0.1Pb0.1Cu1Se1O1' 'Bi1Na0Cu1Se1O1F0'\n",
      " 'Bi0.95Na0.050Cu1Se1O0.95F0.05' 'Bi0.90Na0.100Cu1Se1O0.90F0.10'\n",
      " 'Bi0.85Na0.15Cu1Se1O0.85F0.15' 'Bi0.95Nd0.05Cu1Se1O1'\n",
      " 'Bi0.90Nd0.10Cu1Se1O1' 'Bi0.85Nd0.15Cu1Se1O1' 'Bi0.94Pb0.06Cu0Fe0Se1O1'\n",
      " 'Bi0.94Pb0.06Cu0.99Fe0.01Se1O1' 'Bi0.94Pb0.06Cu0.98Fe0.02Se1O1'\n",
      " 'Bi0.94Pb0.06Cu0.97Fe0.03Se1O1' 'Bi0.975Ca0.025CuSe1O1'\n",
      " 'Bi0.950Ca0.05Cu1Se1O1' 'Bi0.90Ca0.10Cu1Se1O1' 'Bi0.75Ba0.25Cu1Se1O1'\n",
      " 'Bi0.94Mg0.03Pb0.03Cu1Se1O1' 'Bi0.88Mg0.06Pb0.06Cu1Se1O1'\n",
      " 'Bi0.82Mg0.09Pb0.09Cu1Se1O1' 'Bi1Cu0.975Zn0.025Se1O1'\n",
      " 'Bi1Cu0.925Zn0.075Se1O1' 'Bi1Cu0.900Zn0.100Se1O1' 'Bi1Cu0.98Ag0.02Se1O1'\n",
      " 'Bi1Cu0.95Ag0.05Se1O1' 'Bi1Cu0.92Ag0.08Se1O1'\n",
      " 'Bi0.975Zn0.025Cu1Se1O0.975S0.025' 'Bi0.95Zn0.05Cu1Se1O0.95S0.05'\n",
      " 'Bi0.925Zn0.075Cu1Se1O0.925SO0.075' 'Bi0.98Li0.02Cu0.98Mn0.02Se1O1'\n",
      " 'Bi0.96Li0.04Cu0.96Mn0.04Se1O1' 'Bi0.94Li0.06Cu0.94Mn0.06Se1O1'\n",
      " 'Bi0.92Li0.08Cu0.92Mn0.08Se1O1' 'Bi0.90Li0.10Cu0.90Mn0.10Se1O1'\n",
      " 'Bi0.9Li0.1Cu1Se1O1' 'BiCu0.9Mn0.1Se1O1' 'Bi0.875Ba0.125Cu1.0Ni0Se1O1'\n",
      " 'Bi0.875Ba0.125Cu0.95Ni0.05Se1O1' 'Bi0.875Ba0.125Cu0.9Ni0.1Se1O1'\n",
      " 'Bi0.875Ba0.125Cu0.85Ni0.15Se1O1' 'Bi0.875Ba0.125Cu0.8Ni0.2Se1O1'\n",
      " 'Bi0.96Ca0.04Cu1Se1O1' 'Bi0.85Ca0.15Cu1Se1O1' 'Bi0.98Pb0.02Cu1Se1O1'\n",
      " 'Bi0.90Pb0.10Cu1Se1O1' 'Bi0.88Na0.12Cu1Se1O1' 'Bi0.975Sr0.025Cu1Se1O1'\n",
      " 'Bi0.95Sr0.05Cu1Se1O1' 'Bi0.925Sr0.075Cu1Se1O1' 'Bi0.9Sr0.1Cu1Se1O1'\n",
      " 'Bi0.875Sr0.125Cu1Se1O1' 'Bi0.85Sr0.15Cu1Se1O1' 'Bi0.98Cl0.02Cu1Se1O1'\n",
      " 'Bi0.96Cl0.04Cu1Se1O1' 'Bi0.94Cl0.06Cu1Se1O1' 'Bi0.90Cl0.10Cu1Se1O1'\n",
      " 'Bi0.96Yb0.04Cu1Se1O1' 'Bi0.94Yb0.06Cu1Se1O1' 'Bi0.92Yb0.08Cu1Se1O1'\n",
      " 'Bi0.90Yb0.10Cu1Se1O1' 'Bi0.85Yb0.15Cu1Se1O1' 'Bi0.7Yb0.3Cu1Se1O1']\n"
     ]
    }
   ],
   "source": [
    "unique_formulae = X['formula'].unique()\n",
    "print(f'{len(unique_formulae)} unique formulae:\\n{unique_formulae}')\n"
   ]
  },
  {
   "cell_type": "code",
   "execution_count": 7,
   "metadata": {},
   "outputs": [
    {
     "name": "stdout",
     "output_type": "stream",
     "text": [
      "Number of training formulae: 120\n",
      "Number of testing formulae: 51\n"
     ]
    }
   ],
   "source": [
    "# Set a random seed to ensure reproducibility across runs\n",
    "np.random.seed(seed=RNG_SEED)\n",
    "\n",
    "# Store a list of all unique formulae\n",
    "all_formulae = unique_formulae.copy()\n",
    "\n",
    "# Define the proportional size of the dataset split\n",
    "\n",
    "test_size = 0.30\n",
    "train_size = 1 - test_size\n",
    "\n",
    "# Calculate the number of samples in each dataset split\n",
    "\n",
    "num_test_samples = int(round(test_size * len(unique_formulae)))\n",
    "num_train_samples = int(round((1 - test_size) * len(unique_formulae)))\n",
    "\n",
    "# Randomly choose the formulate for the test dataset, and remove those from the unique formulae list\n",
    "test_formulae = np.random.choice(all_formulae, size=num_test_samples, replace=False)\n",
    "all_formulae = [f for f in all_formulae if f not in test_formulae]\n",
    "\n",
    "# The remaining formulae will be used for the training dataset\n",
    "train_formulae = all_formulae.copy()\n",
    "\n",
    "print('Number of training formulae:', len(train_formulae))\n",
    "print('Number of testing formulae:', len(test_formulae))"
   ]
  },
  {
   "cell_type": "code",
   "execution_count": 8,
   "metadata": {},
   "outputs": [
    {
     "name": "stdout",
     "output_type": "stream",
     "text": [
      "train dataset shape: (169, 6)\n",
      "test dataset shape: (60, 6)\n",
      "\n",
      "                  formula  Temperature    zt       k        c        s\n",
      "0             Bi1Cu1Se1O1          701  0.92  0.7223  446.126  146.245\n",
      "1    Bi0.08Sn0.02Cu1Se1O1          701  0.71  0.8563  407.910  145.164\n",
      "3    Bi0.04Sn0.06Cu1Se1O1          701  0.66  0.8823  275.277  171.110\n",
      "4    Bi0.02Sn0.08Cu1Se1O1          701  0.64  0.8887  333.028  157.056\n",
      "5  Bi0.985Na0.015Cu1Se1O1          700  0.38  0.5433   28.186  321.839 \n",
      "\n",
      "                 formula  Temperature    zt       k        c        s\n",
      "2   Bi0.06Sn0.04Cu1Se1O1          701  0.67  1.0033  426.163  150.029\n",
      "10  Bi0.99Cd0.01Cu1Se1O1          700  0.43  0.5094   35.978  297.985\n",
      "13  Bi1Cu0.99Ag0.01Se1O1          700  0.24  0.5726   19.068  317.687\n",
      "17  Bi0.99Sb0.01Cu1Se1O1          700  0.44  0.5374   21.475  315.605\n",
      "18  Bi0.98Sb0.02Cu1Se1O1          700  0.41  0.5465   24.781  300.125 \n",
      "\n"
     ]
    }
   ],
   "source": [
    "# Split the original dataset into the train/validation/test datasets using the formulae lists above\n",
    "df_train = df[df['formula'].isin(train_formulae)]\n",
    "\n",
    "df_test = df[df['formula'].isin(test_formulae)]\n",
    "\n",
    "print(f'train dataset shape: {df_train.shape}')\n",
    "\n",
    "print(f'test dataset shape: {df_test.shape}\\n')\n",
    "\n",
    "print(df_train.head(), '\\n')\n",
    "\n",
    "print(df_test.head(), '\\n')"
   ]
  },
  {
   "cell_type": "code",
   "execution_count": 9,
   "metadata": {},
   "outputs": [],
   "source": [
    "# saving these splits into csv files\n",
    "PATH = os.getcwd()\n",
    "\n",
    "train_path = os.path.join(PATH, 'zt_train.csv')\n",
    "\n",
    "test_path = os.path.join(PATH, 'zt_test.csv')\n",
    "\n",
    "df_train.to_csv(train_path, index=False)\n",
    "\n",
    "df_test.to_csv(test_path, index=False)"
   ]
  },
  {
   "cell_type": "code",
   "execution_count": 10,
   "metadata": {},
   "outputs": [],
   "source": [
    "from sklearn.neighbors import KNeighborsClassifier as Knn\n",
    "from sklearn.model_selection import cross_val_score as crovasco\n",
    "from sklearn.preprocessing import StandardScaler\n",
    "from sklearn.preprocessing import normalize"
   ]
  },
  {
   "cell_type": "code",
   "execution_count": null,
   "metadata": {},
   "outputs": [],
   "source": [
    "from sklearn import preprocessing\n",
    "lab_enc = preprocessing.LabelEncoder()\n",
    "y_train_encoded = lab_enc.fit_transform(y_train)"
   ]
  }
 ],
 "metadata": {
  "kernelspec": {
   "display_name": "Python 3",
   "language": "python",
   "name": "python3"
  },
  "language_info": {
   "codemirror_mode": {
    "name": "ipython",
    "version": 3
   },
   "file_extension": ".py",
   "mimetype": "text/x-python",
   "name": "python",
   "nbconvert_exporter": "python",
   "pygments_lexer": "ipython3",
   "version": "3.7.6"
  }
 },
 "nbformat": 4,
 "nbformat_minor": 4
}
